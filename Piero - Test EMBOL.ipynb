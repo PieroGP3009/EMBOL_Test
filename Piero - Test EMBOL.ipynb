{
 "cells": [
  {
   "cell_type": "markdown",
   "id": "45541c93",
   "metadata": {},
   "source": [
    "# Prueba Embol - Piero Guillen #"
   ]
  },
  {
   "cell_type": "markdown",
   "id": "307c109e",
   "metadata": {},
   "source": [
    "## Identificacion y Preparacion de Datos ##"
   ]
  },
  {
   "cell_type": "markdown",
   "id": "0ea78aa1",
   "metadata": {},
   "source": [
    "### 1 y 2"
   ]
  },
  {
   "cell_type": "code",
   "execution_count": 3,
   "id": "c2a8c0f6",
   "metadata": {},
   "outputs": [
    {
     "name": "stdout",
     "output_type": "stream",
     "text": [
      "FALSE POSITIVE    3504\n",
      "CONFIRMED         1800\n",
      "CANDIDATE         1687\n",
      "Name: koi_disposition, dtype: int64\n"
     ]
    }
   ],
   "source": [
    "# Obtner la data\n",
    "\n",
    "# aca importe pandas xd\n",
    "import pandas as pd\n",
    "\n",
    "# Importar archivo CSV\n",
    "file_path = r\"C:\\Users\\hp\\Downloads\\exoplanetas (1).csv\"\n",
    "data = pd.read_csv(file_path, delimiter=';')\n",
    "\n",
    "# Identificar la variable objetivo - analisis manual, no se me ocurrio otra forma, tuve que revisar documentacion\n",
    "target_variable = 'koi_disposition'\n",
    "\n",
    "# Revisar la distribución de los valores en la variable objetivo\n",
    "distribution = data[target_variable].value_counts()\n",
    "\n",
    "# Mostrar la distribución\n",
    "print(distribution)\n"
   ]
  },
  {
   "cell_type": "markdown",
   "id": "b886b28b",
   "metadata": {},
   "source": [
    "### 3 y 4 "
   ]
  },
  {
   "cell_type": "code",
   "execution_count": 5,
   "id": "2bfa4341",
   "metadata": {},
   "outputs": [
    {
     "name": "stdout",
     "output_type": "stream",
     "text": [
      "koi_teq             480.858261\n",
      "koi_steff           361.568478\n",
      "koi_steff_err2       60.191811\n",
      "koi_steff_err1       44.045822\n",
      "koi_tce_plnt_num      0.332949\n",
      "dtype: float64\n"
     ]
    }
   ],
   "source": [
    "# Filtrar datos por confirmados y falsos positivos\n",
    "confirmed = data[data['koi_disposition'] == 'CONFIRMED']\n",
    "false_positive = data[data['koi_disposition'] == 'FALSE POSITIVE']\n",
    "\n",
    "# Seleccionar solo las columnas numéricas\n",
    "numerical_columns = data.select_dtypes(include=['float64', 'int64']).columns\n",
    "\n",
    "# Calcular promedios para cada grupo\n",
    "confirmed_means = confirmed[numerical_columns].mean()\n",
    "false_positive_means = false_positive[numerical_columns].mean()\n",
    "\n",
    "# Comparar los promedios\n",
    "differences = abs(confirmed_means - false_positive_means)\n",
    "significant_differences = differences.sort_values(ascending=False)\n",
    "\n",
    "# Mostrar diferencias significativas\n",
    "print(significant_differences)\n"
   ]
  },
  {
   "cell_type": "code",
   "execution_count": 7,
   "id": "9bddfc33",
   "metadata": {},
   "outputs": [
    {
     "name": "stdout",
     "output_type": "stream",
     "text": [
      "DataFrame reducido con las columnas seleccionadas:\n",
      "   koi_teq  koi_steff koi_disposition\n",
      "0      443       5455       CONFIRMED\n",
      "1      638       5853  FALSE POSITIVE\n",
      "2     1395       5805  FALSE POSITIVE\n",
      "3     1406       6031       CONFIRMED\n",
      "4     1160       6046       CONFIRMED\n"
     ]
    }
   ],
   "source": [
    "# Seleccionar las variables más relevantes (con mayores diferencias)\n",
    "selected_columns = significant_differences.index[:len(numerical_columns)//2].tolist()\n",
    "\n",
    "# Añadir la variable objetivo a la lista de columnas seleccionadas\n",
    "selected_columns.append('koi_disposition')\n",
    "\n",
    "# Crear un nuevo DataFrame con las columnas seleccionadas\n",
    "reduced_data = data[selected_columns]\n",
    "\n",
    "# Mostrar las primeras filas del nuevo DataFrame\n",
    "print(\"DataFrame reducido con las columnas seleccionadas:\")\n",
    "print(reduced_data.head())\n"
   ]
  },
  {
   "cell_type": "code",
   "execution_count": 12,
   "id": "4ba01f23",
   "metadata": {},
   "outputs": [
    {
     "name": "stdout",
     "output_type": "stream",
     "text": [
      "DataFrame transformado con variables estandarizadas y codificadas:\n",
      "    koi_teq  koi_steff  koi_disposition\n",
      "0 -0.761706  -0.306336                1\n",
      "1 -0.533949   0.189921                2\n",
      "2  0.350218   0.130071                2\n",
      "3  0.363066   0.411866                1\n",
      "4  0.075741   0.430569                1\n"
     ]
    },
    {
     "name": "stderr",
     "output_type": "stream",
     "text": [
      "C:\\Users\\hp\\AppData\\Local\\Temp\\ipykernel_20784\\1505957503.py:11: SettingWithCopyWarning: \n",
      "A value is trying to be set on a copy of a slice from a DataFrame.\n",
      "Try using .loc[row_indexer,col_indexer] = value instead\n",
      "\n",
      "See the caveats in the documentation: https://pandas.pydata.org/pandas-docs/stable/user_guide/indexing.html#returning-a-view-versus-a-copy\n",
      "  reduced_data.loc[:, numerical_vars] = scaler.fit_transform(reduced_data[numerical_vars])\n"
     ]
    }
   ],
   "source": [
    "#Ignorar la advertencia que nos da esta sección, no es relevante\n",
    "\n",
    "from sklearn.preprocessing import StandardScaler, LabelEncoder\n",
    "\n",
    "# Identificar los tipos de variables\n",
    "numerical_vars = reduced_data.select_dtypes(include=['float64', 'int64']).columns\n",
    "categorical_vars = reduced_data.select_dtypes(include=['object']).columns\n",
    "\n",
    "# Estandarizar variables numéricas\n",
    "scaler = StandardScaler()\n",
    "reduced_data.loc[:, numerical_vars] = scaler.fit_transform(reduced_data[numerical_vars])\n",
    "\n",
    "# Codificar variables categóricas\n",
    "encoder = LabelEncoder()\n",
    "for col in categorical_vars:\n",
    "    reduced_data.loc[:, col] = encoder.fit_transform(reduced_data[col])\n",
    "\n",
    "# Mostrar las primeras filas del DataFrame transformado\n",
    "print(\"DataFrame transformado con variables estandarizadas y codificadas:\")\n",
    "print(reduced_data.head())\n",
    "\n"
   ]
  },
  {
   "cell_type": "markdown",
   "id": "2fc835c9",
   "metadata": {},
   "source": [
    "## Entrenamiento y Optimizacion del modelo ##"
   ]
  },
  {
   "cell_type": "code",
   "execution_count": 13,
   "id": "85553a65",
   "metadata": {},
   "outputs": [],
   "source": [
    "# Importar mas bibliotecas necesarias\n",
    "from sklearn.model_selection import train_test_split, GridSearchCV\n",
    "from sklearn.ensemble import RandomForestClassifier\n",
    "from sklearn.metrics import classification_report, confusion_matrix\n",
    "\n",
    "\n",
    "# 5. Construir conjuntos de datos para entrenar y testear nuestro modelo\n",
    "# Dividir los datos en características y variable objetivo\n",
    "X = reduced_data.drop('koi_disposition', axis=1)\n",
    "y = reduced_data['koi_disposition']\n",
    "\n",
    "# Dividir los datos en conjuntos de entrenamiento y prueba\n",
    "X_train, X_test, y_train, y_test = train_test_split(X, y, test_size=0.3, random_state=42)"
   ]
  },
  {
   "cell_type": "code",
   "execution_count": 14,
   "id": "9b7f84bb",
   "metadata": {},
   "outputs": [
    {
     "name": "stdout",
     "output_type": "stream",
     "text": [
      "Reporte de clasificación (modelo inicial):\n",
      "              precision    recall  f1-score   support\n",
      "\n",
      "           0       0.29      0.22      0.25       504\n",
      "           1       0.41      0.38      0.40       574\n",
      "           2       0.57      0.66      0.61      1020\n",
      "\n",
      "    accuracy                           0.48      2098\n",
      "   macro avg       0.42      0.42      0.42      2098\n",
      "weighted avg       0.46      0.48      0.47      2098\n",
      "\n",
      "Matriz de confusión (modelo inicial):\n",
      "[[111 127 266]\n",
      " [118 219 237]\n",
      " [160 185 675]]\n"
     ]
    }
   ],
   "source": [
    "# Entrenar el modelo RandomForest\n",
    "model = RandomForestClassifier(random_state=42)\n",
    "model.fit(X_train, y_train)\n",
    "\n",
    "# Hacer predicciones\n",
    "y_pred = model.predict(X_test)\n",
    "\n",
    "# Obtener métricas de desempeño\n",
    "report_initial = classification_report(y_test, y_pred)\n",
    "conf_matrix_initial = confusion_matrix(y_test, y_pred)\n",
    "\n",
    "print(\"Reporte de clasificación (modelo inicial):\")\n",
    "print(report_initial)\n",
    "print(\"Matriz de confusión (modelo inicial):\")\n",
    "print(conf_matrix_initial)\n"
   ]
  },
  {
   "cell_type": "code",
   "execution_count": 20,
   "id": "0627384a",
   "metadata": {},
   "outputs": [
    {
     "name": "stdout",
     "output_type": "stream",
     "text": [
      "Mejores hiperparámetros encontrados:\n",
      "{'criterion': 'entropy', 'max_depth': 5, 'max_features': 'sqrt', 'n_estimators': 200}\n"
     ]
    },
    {
     "data": {
      "text/html": [
       "<style>#sk-container-id-4 {color: black;}#sk-container-id-4 pre{padding: 0;}#sk-container-id-4 div.sk-toggleable {background-color: white;}#sk-container-id-4 label.sk-toggleable__label {cursor: pointer;display: block;width: 100%;margin-bottom: 0;padding: 0.3em;box-sizing: border-box;text-align: center;}#sk-container-id-4 label.sk-toggleable__label-arrow:before {content: \"▸\";float: left;margin-right: 0.25em;color: #696969;}#sk-container-id-4 label.sk-toggleable__label-arrow:hover:before {color: black;}#sk-container-id-4 div.sk-estimator:hover label.sk-toggleable__label-arrow:before {color: black;}#sk-container-id-4 div.sk-toggleable__content {max-height: 0;max-width: 0;overflow: hidden;text-align: left;background-color: #f0f8ff;}#sk-container-id-4 div.sk-toggleable__content pre {margin: 0.2em;color: black;border-radius: 0.25em;background-color: #f0f8ff;}#sk-container-id-4 input.sk-toggleable__control:checked~div.sk-toggleable__content {max-height: 200px;max-width: 100%;overflow: auto;}#sk-container-id-4 input.sk-toggleable__control:checked~label.sk-toggleable__label-arrow:before {content: \"▾\";}#sk-container-id-4 div.sk-estimator input.sk-toggleable__control:checked~label.sk-toggleable__label {background-color: #d4ebff;}#sk-container-id-4 div.sk-label input.sk-toggleable__control:checked~label.sk-toggleable__label {background-color: #d4ebff;}#sk-container-id-4 input.sk-hidden--visually {border: 0;clip: rect(1px 1px 1px 1px);clip: rect(1px, 1px, 1px, 1px);height: 1px;margin: -1px;overflow: hidden;padding: 0;position: absolute;width: 1px;}#sk-container-id-4 div.sk-estimator {font-family: monospace;background-color: #f0f8ff;border: 1px dotted black;border-radius: 0.25em;box-sizing: border-box;margin-bottom: 0.5em;}#sk-container-id-4 div.sk-estimator:hover {background-color: #d4ebff;}#sk-container-id-4 div.sk-parallel-item::after {content: \"\";width: 100%;border-bottom: 1px solid gray;flex-grow: 1;}#sk-container-id-4 div.sk-label:hover label.sk-toggleable__label {background-color: #d4ebff;}#sk-container-id-4 div.sk-serial::before {content: \"\";position: absolute;border-left: 1px solid gray;box-sizing: border-box;top: 0;bottom: 0;left: 50%;z-index: 0;}#sk-container-id-4 div.sk-serial {display: flex;flex-direction: column;align-items: center;background-color: white;padding-right: 0.2em;padding-left: 0.2em;position: relative;}#sk-container-id-4 div.sk-item {position: relative;z-index: 1;}#sk-container-id-4 div.sk-parallel {display: flex;align-items: stretch;justify-content: center;background-color: white;position: relative;}#sk-container-id-4 div.sk-item::before, #sk-container-id-4 div.sk-parallel-item::before {content: \"\";position: absolute;border-left: 1px solid gray;box-sizing: border-box;top: 0;bottom: 0;left: 50%;z-index: -1;}#sk-container-id-4 div.sk-parallel-item {display: flex;flex-direction: column;z-index: 1;position: relative;background-color: white;}#sk-container-id-4 div.sk-parallel-item:first-child::after {align-self: flex-end;width: 50%;}#sk-container-id-4 div.sk-parallel-item:last-child::after {align-self: flex-start;width: 50%;}#sk-container-id-4 div.sk-parallel-item:only-child::after {width: 0;}#sk-container-id-4 div.sk-dashed-wrapped {border: 1px dashed gray;margin: 0 0.4em 0.5em 0.4em;box-sizing: border-box;padding-bottom: 0.4em;background-color: white;}#sk-container-id-4 div.sk-label label {font-family: monospace;font-weight: bold;display: inline-block;line-height: 1.2em;}#sk-container-id-4 div.sk-label-container {text-align: center;}#sk-container-id-4 div.sk-container {/* jupyter's `normalize.less` sets `[hidden] { display: none; }` but bootstrap.min.css set `[hidden] { display: none !important; }` so we also need the `!important` here to be able to override the default hidden behavior on the sphinx rendered scikit-learn.org. See: https://github.com/scikit-learn/scikit-learn/issues/21755 */display: inline-block !important;position: relative;}#sk-container-id-4 div.sk-text-repr-fallback {display: none;}</style><div id=\"sk-container-id-4\" class=\"sk-top-container\"><div class=\"sk-text-repr-fallback\"><pre>RandomForestClassifier(criterion=&#x27;entropy&#x27;, max_depth=5, n_estimators=200,\n",
       "                       random_state=42)</pre><b>In a Jupyter environment, please rerun this cell to show the HTML representation or trust the notebook. <br />On GitHub, the HTML representation is unable to render, please try loading this page with nbviewer.org.</b></div><div class=\"sk-container\" hidden><div class=\"sk-item\"><div class=\"sk-estimator sk-toggleable\"><input class=\"sk-toggleable__control sk-hidden--visually\" id=\"sk-estimator-id-4\" type=\"checkbox\" checked><label for=\"sk-estimator-id-4\" class=\"sk-toggleable__label sk-toggleable__label-arrow\">RandomForestClassifier</label><div class=\"sk-toggleable__content\"><pre>RandomForestClassifier(criterion=&#x27;entropy&#x27;, max_depth=5, n_estimators=200,\n",
       "                       random_state=42)</pre></div></div></div></div></div>"
      ],
      "text/plain": [
       "RandomForestClassifier(criterion='entropy', max_depth=5, n_estimators=200,\n",
       "                       random_state=42)"
      ]
     },
     "execution_count": 20,
     "metadata": {},
     "output_type": "execute_result"
    }
   ],
   "source": [
    "from sklearn.model_selection import GridSearchCV\n",
    "from sklearn.ensemble import RandomForestClassifier\n",
    "\n",
    "# Definir los parámetros para GridSearch\n",
    "param_grid = {\n",
    "    'n_estimators': [100, 200],\n",
    "    'max_features': ['sqrt', 'log2'],\n",
    "    'max_depth': [4, 5, 6],\n",
    "    'criterion': ['gini', 'entropy']\n",
    "}\n",
    "\n",
    "# Búsqueda de los mejores hiperparámetros\n",
    "grid_search = GridSearchCV(estimator=model, param_grid=param_grid, cv=3, n_jobs=-1)\n",
    "grid_search.fit(X_train, y_train)\n",
    "\n",
    "# Mejor combinación de hiperparámetros\n",
    "best_params = grid_search.best_params_\n",
    "print(\"Mejores hiperparámetros encontrados:\")\n",
    "print(best_params)\n",
    "\n",
    "# Re-entrenar el modelo con los mejores hiperparámetros\n",
    "best_model = RandomForestClassifier(**best_params, random_state=42)\n",
    "best_model.fit(X_train, y_train)\n",
    "\n"
   ]
  },
  {
   "cell_type": "code",
   "execution_count": 23,
   "id": "af31f3c0",
   "metadata": {},
   "outputs": [
    {
     "name": "stdout",
     "output_type": "stream",
     "text": [
      "Reporte de clasificación (modelo optimizado):\n",
      "              precision    recall  f1-score   support\n",
      "\n",
      "           0       0.00      0.00      0.00       504\n",
      "           1       0.42      0.53      0.47       574\n",
      "           2       0.58      0.78      0.67      1020\n",
      "\n",
      "    accuracy                           0.53      2098\n",
      "   macro avg       0.33      0.44      0.38      2098\n",
      "weighted avg       0.40      0.53      0.45      2098\n",
      "\n",
      "Matriz de confusión (modelo optimizado):\n",
      "[[  0 193 311]\n",
      " [  0 305 269]\n",
      " [  0 220 800]]\n"
     ]
    },
    {
     "name": "stderr",
     "output_type": "stream",
     "text": [
      "D:\\anaconda\\Lib\\site-packages\\sklearn\\metrics\\_classification.py:1469: UndefinedMetricWarning: Precision and F-score are ill-defined and being set to 0.0 in labels with no predicted samples. Use `zero_division` parameter to control this behavior.\n",
      "  _warn_prf(average, modifier, msg_start, len(result))\n",
      "D:\\anaconda\\Lib\\site-packages\\sklearn\\metrics\\_classification.py:1469: UndefinedMetricWarning: Precision and F-score are ill-defined and being set to 0.0 in labels with no predicted samples. Use `zero_division` parameter to control this behavior.\n",
      "  _warn_prf(average, modifier, msg_start, len(result))\n",
      "D:\\anaconda\\Lib\\site-packages\\sklearn\\metrics\\_classification.py:1469: UndefinedMetricWarning: Precision and F-score are ill-defined and being set to 0.0 in labels with no predicted samples. Use `zero_division` parameter to control this behavior.\n",
      "  _warn_prf(average, modifier, msg_start, len(result))\n"
     ]
    }
   ],
   "source": [
    "#ACA TUVE UN PROBLEMA CON EL MODELADO, NO ESTABA PREDICIENDO NINGUNA MUESTRA PARA LA CLASE 0,\n",
    "#SE PROCEDIO A UTILIZAR LA TECNICA SMOTE -> SIN EXITO, NECESITO MAS TIEMPO Y MAYORES RECURSOS EN MI DESK\n",
    "\n",
    "# Re-entrenar el modelo con los mejores hiperparámetros\n",
    "#best_model = RandomForestClassifier(**best_params, random_state=42)\n",
    "#best_model.fit(X_train, y_train)\n",
    "\n",
    "# Hacer predicciones con el modelo optimizado\n",
    "#y_pred_optimized = best_model.predict(X_test)\n",
    "\n",
    "# Obtener métricas de desempeño\n",
    "#from sklearn.metrics import classification_report, confusion_matrix\n",
    "\n",
    "#report_optimized = classification_report(y_test, y_pred_optimized)\n",
    "#conf_matrix_optimized = confusion_matrix(y_test, y_pred_optimized)\n",
    "\n",
    "#print(\"Reporte de clasificación (modelo optimizado):\")\n",
    "#print(report_optimized)\n",
    "#print(\"Matriz de confusión (modelo optimizado):\")\n",
    "#print(conf_matrix_optimized)\n"
   ]
  },
  {
   "cell_type": "code",
   "execution_count": 25,
   "id": "06faa414",
   "metadata": {},
   "outputs": [
    {
     "name": "stdout",
     "output_type": "stream",
     "text": [
      "^C\n",
      "Note: you may need to restart the kernel to use updated packages.\n"
     ]
    }
   ],
   "source": [
    "pip install --upgrade scikit-learn imbalanced-learn"
   ]
  },
  {
   "cell_type": "markdown",
   "id": "b08989f9",
   "metadata": {},
   "source": [
    "### Nota - como no pude arreglar el resultado de la clase 0, volvi a empezar. Es solucionable con mas tiempo y recursos"
   ]
  },
  {
   "cell_type": "code",
   "execution_count": 26,
   "id": "7d32e619",
   "metadata": {},
   "outputs": [
    {
     "name": "stdout",
     "output_type": "stream",
     "text": [
      "Mejores hiperparámetros encontrados:\n",
      "{'criterion': 'entropy', 'max_depth': 5, 'max_features': 'sqrt', 'n_estimators': 200}\n"
     ]
    },
    {
     "data": {
      "text/html": [
       "<style>#sk-container-id-5 {color: black;}#sk-container-id-5 pre{padding: 0;}#sk-container-id-5 div.sk-toggleable {background-color: white;}#sk-container-id-5 label.sk-toggleable__label {cursor: pointer;display: block;width: 100%;margin-bottom: 0;padding: 0.3em;box-sizing: border-box;text-align: center;}#sk-container-id-5 label.sk-toggleable__label-arrow:before {content: \"▸\";float: left;margin-right: 0.25em;color: #696969;}#sk-container-id-5 label.sk-toggleable__label-arrow:hover:before {color: black;}#sk-container-id-5 div.sk-estimator:hover label.sk-toggleable__label-arrow:before {color: black;}#sk-container-id-5 div.sk-toggleable__content {max-height: 0;max-width: 0;overflow: hidden;text-align: left;background-color: #f0f8ff;}#sk-container-id-5 div.sk-toggleable__content pre {margin: 0.2em;color: black;border-radius: 0.25em;background-color: #f0f8ff;}#sk-container-id-5 input.sk-toggleable__control:checked~div.sk-toggleable__content {max-height: 200px;max-width: 100%;overflow: auto;}#sk-container-id-5 input.sk-toggleable__control:checked~label.sk-toggleable__label-arrow:before {content: \"▾\";}#sk-container-id-5 div.sk-estimator input.sk-toggleable__control:checked~label.sk-toggleable__label {background-color: #d4ebff;}#sk-container-id-5 div.sk-label input.sk-toggleable__control:checked~label.sk-toggleable__label {background-color: #d4ebff;}#sk-container-id-5 input.sk-hidden--visually {border: 0;clip: rect(1px 1px 1px 1px);clip: rect(1px, 1px, 1px, 1px);height: 1px;margin: -1px;overflow: hidden;padding: 0;position: absolute;width: 1px;}#sk-container-id-5 div.sk-estimator {font-family: monospace;background-color: #f0f8ff;border: 1px dotted black;border-radius: 0.25em;box-sizing: border-box;margin-bottom: 0.5em;}#sk-container-id-5 div.sk-estimator:hover {background-color: #d4ebff;}#sk-container-id-5 div.sk-parallel-item::after {content: \"\";width: 100%;border-bottom: 1px solid gray;flex-grow: 1;}#sk-container-id-5 div.sk-label:hover label.sk-toggleable__label {background-color: #d4ebff;}#sk-container-id-5 div.sk-serial::before {content: \"\";position: absolute;border-left: 1px solid gray;box-sizing: border-box;top: 0;bottom: 0;left: 50%;z-index: 0;}#sk-container-id-5 div.sk-serial {display: flex;flex-direction: column;align-items: center;background-color: white;padding-right: 0.2em;padding-left: 0.2em;position: relative;}#sk-container-id-5 div.sk-item {position: relative;z-index: 1;}#sk-container-id-5 div.sk-parallel {display: flex;align-items: stretch;justify-content: center;background-color: white;position: relative;}#sk-container-id-5 div.sk-item::before, #sk-container-id-5 div.sk-parallel-item::before {content: \"\";position: absolute;border-left: 1px solid gray;box-sizing: border-box;top: 0;bottom: 0;left: 50%;z-index: -1;}#sk-container-id-5 div.sk-parallel-item {display: flex;flex-direction: column;z-index: 1;position: relative;background-color: white;}#sk-container-id-5 div.sk-parallel-item:first-child::after {align-self: flex-end;width: 50%;}#sk-container-id-5 div.sk-parallel-item:last-child::after {align-self: flex-start;width: 50%;}#sk-container-id-5 div.sk-parallel-item:only-child::after {width: 0;}#sk-container-id-5 div.sk-dashed-wrapped {border: 1px dashed gray;margin: 0 0.4em 0.5em 0.4em;box-sizing: border-box;padding-bottom: 0.4em;background-color: white;}#sk-container-id-5 div.sk-label label {font-family: monospace;font-weight: bold;display: inline-block;line-height: 1.2em;}#sk-container-id-5 div.sk-label-container {text-align: center;}#sk-container-id-5 div.sk-container {/* jupyter's `normalize.less` sets `[hidden] { display: none; }` but bootstrap.min.css set `[hidden] { display: none !important; }` so we also need the `!important` here to be able to override the default hidden behavior on the sphinx rendered scikit-learn.org. See: https://github.com/scikit-learn/scikit-learn/issues/21755 */display: inline-block !important;position: relative;}#sk-container-id-5 div.sk-text-repr-fallback {display: none;}</style><div id=\"sk-container-id-5\" class=\"sk-top-container\"><div class=\"sk-text-repr-fallback\"><pre>RandomForestClassifier(criterion=&#x27;entropy&#x27;, max_depth=5, n_estimators=200,\n",
       "                       random_state=42)</pre><b>In a Jupyter environment, please rerun this cell to show the HTML representation or trust the notebook. <br />On GitHub, the HTML representation is unable to render, please try loading this page with nbviewer.org.</b></div><div class=\"sk-container\" hidden><div class=\"sk-item\"><div class=\"sk-estimator sk-toggleable\"><input class=\"sk-toggleable__control sk-hidden--visually\" id=\"sk-estimator-id-5\" type=\"checkbox\" checked><label for=\"sk-estimator-id-5\" class=\"sk-toggleable__label sk-toggleable__label-arrow\">RandomForestClassifier</label><div class=\"sk-toggleable__content\"><pre>RandomForestClassifier(criterion=&#x27;entropy&#x27;, max_depth=5, n_estimators=200,\n",
       "                       random_state=42)</pre></div></div></div></div></div>"
      ],
      "text/plain": [
       "RandomForestClassifier(criterion='entropy', max_depth=5, n_estimators=200,\n",
       "                       random_state=42)"
      ]
     },
     "execution_count": 26,
     "metadata": {},
     "output_type": "execute_result"
    }
   ],
   "source": [
    "# (ADVERTENCIA) No correr el modelo en computadoras con poca capacidad \n",
    "\n",
    "from sklearn.model_selection import GridSearchCV\n",
    "from sklearn.ensemble import RandomForestClassifier\n",
    "\n",
    "# Definir los parámetros para GridSearch\n",
    "param_grid = {\n",
    "    'n_estimators': [100, 200],\n",
    "    'max_features': ['sqrt', 'log2'],\n",
    "    'max_depth': [4, 5, 6],\n",
    "    'criterion': ['gini', 'entropy']\n",
    "}\n",
    "\n",
    "# Búsqueda de los mejores hiperparámetros\n",
    "grid_search = GridSearchCV(estimator=RandomForestClassifier(random_state=42), param_grid=param_grid, cv=3, n_jobs=-1)\n",
    "grid_search.fit(X_train, y_train)\n",
    "\n",
    "# Mejor combinación de hiperparámetros\n",
    "best_params = grid_search.best_params_\n",
    "print(\"Mejores hiperparámetros encontrados:\")\n",
    "print(best_params)\n",
    "\n",
    "# Re-entrenar el modelo con los mejores hiperparámetros\n",
    "best_model = RandomForestClassifier(**best_params, random_state=42)\n",
    "best_model.fit(X_train, y_train)\n"
   ]
  },
  {
   "cell_type": "code",
   "execution_count": 31,
   "id": "ae9479e3",
   "metadata": {},
   "outputs": [
    {
     "name": "stdout",
     "output_type": "stream",
     "text": [
      "Reporte de clasificación (modelo optimizado):\n",
      "              precision    recall  f1-score   support\n",
      "\n",
      "           0       0.00      0.00      0.00       504\n",
      "           1       0.42      0.53      0.47       574\n",
      "           2       0.58      0.78      0.67      1020\n",
      "\n",
      "    accuracy                           0.53      2098\n",
      "   macro avg       0.33      0.44      0.38      2098\n",
      "weighted avg       0.40      0.53      0.45      2098\n",
      "\n",
      "Matriz de confusión (modelo optimizado):\n",
      "[[  0 193 311]\n",
      " [  0 305 269]\n",
      " [  0 220 800]]\n",
      "\n",
      "Nota:\n",
      "El modelo optimizado tiene un rendimiento aceptable para las clases 1 y 2, \n",
      "pero no predice correctamente ninguna instancia de la clase 0.\n",
      "Esto puede deberse a un desbalance de clases en el conjunto de datos. \n",
      "En un proyecto más detallado, se recomienda aplicar técnicas de balanceo de clases\n",
      "como SMOTE para mejorar el rendimiento del modelo en todas las clases.\n",
      "En este caso, se decidió proceder con las métricas actuales para mantener la simplicidad y\n",
      "cumplir con las limitaciones de tiempo y recursos.\n",
      "\n"
     ]
    },
    {
     "name": "stderr",
     "output_type": "stream",
     "text": [
      "D:\\anaconda\\Lib\\site-packages\\sklearn\\metrics\\_classification.py:1469: UndefinedMetricWarning: Precision and F-score are ill-defined and being set to 0.0 in labels with no predicted samples. Use `zero_division` parameter to control this behavior.\n",
      "  _warn_prf(average, modifier, msg_start, len(result))\n",
      "D:\\anaconda\\Lib\\site-packages\\sklearn\\metrics\\_classification.py:1469: UndefinedMetricWarning: Precision and F-score are ill-defined and being set to 0.0 in labels with no predicted samples. Use `zero_division` parameter to control this behavior.\n",
      "  _warn_prf(average, modifier, msg_start, len(result))\n",
      "D:\\anaconda\\Lib\\site-packages\\sklearn\\metrics\\_classification.py:1469: UndefinedMetricWarning: Precision and F-score are ill-defined and being set to 0.0 in labels with no predicted samples. Use `zero_division` parameter to control this behavior.\n",
      "  _warn_prf(average, modifier, msg_start, len(result))\n"
     ]
    }
   ],
   "source": [
    "#ADVERTENCIA - ¡¡¡¡No correr el modelo si la computadora tiene pocos recursos!!!!\n",
    "\n",
    "# Hacer predicciones con el modelo optimizado\n",
    "y_pred_optimized = best_model.predict(X_test)\n",
    "\n",
    "# Obtener métricas de desempeño\n",
    "from sklearn.metrics import classification_report, confusion_matrix\n",
    "\n",
    "report_optimized = classification_report(y_test, y_pred_optimized)\n",
    "conf_matrix_optimized = confusion_matrix(y_test, y_pred_optimized)\n",
    "\n",
    "print(\"Reporte de clasificación (modelo optimizado):\")\n",
    "print(report_optimized)\n",
    "print(\"Matriz de confusión (modelo optimizado):\")\n",
    "print(conf_matrix_optimized)\n",
    "print(\"\"\"\n",
    "Nota:\n",
    "El modelo optimizado tiene un rendimiento aceptable para las clases 1 y 2, \n",
    "pero no predice correctamente ninguna instancia de la clase 0.\n",
    "Esto puede deberse a un desbalance de clases en el conjunto de datos. \n",
    "En un proyecto más detallado, se recomienda aplicar técnicas de balanceo de clases\n",
    "como SMOTE para mejorar el rendimiento del modelo en todas las clases.\n",
    "En este caso, se decidió proceder con las métricas actuales para mantener la simplicidad y\n",
    "cumplir con las limitaciones de tiempo y recursos.\n",
    "\"\"\")"
   ]
  },
  {
   "cell_type": "markdown",
   "id": "31ab18d5",
   "metadata": {},
   "source": [
    "## Evaluacion del Modelo"
   ]
  },
  {
   "cell_type": "code",
   "execution_count": 32,
   "id": "3ac4b0bd",
   "metadata": {},
   "outputs": [
    {
     "name": "stdout",
     "output_type": "stream",
     "text": [
      "Reporte de clasificación (modelo optimizado):\n",
      "              precision    recall  f1-score   support\n",
      "\n",
      "           0       0.00      0.00      0.00       504\n",
      "           1       0.42      0.53      0.47       574\n",
      "           2       0.58      0.78      0.67      1020\n",
      "\n",
      "    accuracy                           0.53      2098\n",
      "   macro avg       0.33      0.44      0.38      2098\n",
      "weighted avg       0.40      0.53      0.45      2098\n",
      "\n",
      "Matriz de confusión (modelo optimizado):\n",
      "[[  0 193 311]\n",
      " [  0 305 269]\n",
      " [  0 220 800]]\n"
     ]
    },
    {
     "name": "stderr",
     "output_type": "stream",
     "text": [
      "D:\\anaconda\\Lib\\site-packages\\sklearn\\metrics\\_classification.py:1469: UndefinedMetricWarning: Precision and F-score are ill-defined and being set to 0.0 in labels with no predicted samples. Use `zero_division` parameter to control this behavior.\n",
      "  _warn_prf(average, modifier, msg_start, len(result))\n",
      "D:\\anaconda\\Lib\\site-packages\\sklearn\\metrics\\_classification.py:1469: UndefinedMetricWarning: Precision and F-score are ill-defined and being set to 0.0 in labels with no predicted samples. Use `zero_division` parameter to control this behavior.\n",
      "  _warn_prf(average, modifier, msg_start, len(result))\n",
      "D:\\anaconda\\Lib\\site-packages\\sklearn\\metrics\\_classification.py:1469: UndefinedMetricWarning: Precision and F-score are ill-defined and being set to 0.0 in labels with no predicted samples. Use `zero_division` parameter to control this behavior.\n",
      "  _warn_prf(average, modifier, msg_start, len(result))\n"
     ]
    }
   ],
   "source": [
    "# Paso 9: Calcular las métricas apropiadas para el modelo entrenado\n",
    "\n",
    "from sklearn.metrics import classification_report, confusion_matrix\n",
    "\n",
    "# Ya hemos calculado las métricas usando classification_report y confusion_matrix\n",
    "report_optimized = classification_report(y_test, y_pred_optimized)\n",
    "conf_matrix_optimized = confusion_matrix(y_test, y_pred_optimized)\n",
    "\n",
    "print(\"Reporte de clasificación (modelo optimizado):\")\n",
    "print(report_optimized)\n",
    "print(\"Matriz de confusión (modelo optimizado):\")\n",
    "print(conf_matrix_optimized)\n"
   ]
  },
  {
   "cell_type": "code",
   "execution_count": 35,
   "id": "2efb3451",
   "metadata": {},
   "outputs": [
    {
     "name": "stdout",
     "output_type": "stream",
     "text": [
      "\n",
      "Comentario sobre la certeza de los candidatos confirmados como planetas:\n",
      "La clase 2 representa los exoplanetas confirmados. Las métricas de desempeño para esta clase son:\n",
      "- Precisión: 57.97\n",
      "- Recall: 78.43\n",
      "- F1-Score: 66.67\n",
      "\n",
      "La precisión indica que el 57.97% de las predicciones de exoplanetas confirmados son correctas.\n",
      "El recall indica que el 78.43% de todos los exoplanetas confirmados reales fueron identificados\n",
      "correctamente por el modelo.\n",
      "\n",
      "Aunque el modelo tiene un desempeño razonable para los exoplanetas confirmados, se recomienda\n",
      "aplicar técnicas de balanceo de clases\n",
      "y ajustar los hiperparámetros del modelo para mejorar estas métricas.\n",
      "\n"
     ]
    },
    {
     "name": "stderr",
     "output_type": "stream",
     "text": [
      "D:\\anaconda\\Lib\\site-packages\\sklearn\\metrics\\_classification.py:1469: UndefinedMetricWarning: Precision and F-score are ill-defined and being set to 0.0 in labels with no predicted samples. Use `zero_division` parameter to control this behavior.\n",
      "  _warn_prf(average, modifier, msg_start, len(result))\n",
      "D:\\anaconda\\Lib\\site-packages\\sklearn\\metrics\\_classification.py:1469: UndefinedMetricWarning: Precision and F-score are ill-defined and being set to 0.0 in labels with no predicted samples. Use `zero_division` parameter to control this behavior.\n",
      "  _warn_prf(average, modifier, msg_start, len(result))\n",
      "D:\\anaconda\\Lib\\site-packages\\sklearn\\metrics\\_classification.py:1469: UndefinedMetricWarning: Precision and F-score are ill-defined and being set to 0.0 in labels with no predicted samples. Use `zero_division` parameter to control this behavior.\n",
      "  _warn_prf(average, modifier, msg_start, len(result))\n"
     ]
    }
   ],
   "source": [
    "# Paso 10: Comentar sobre la certeza de los candidatos confirmados como planetas\n",
    "\n",
    "# Extraer las métricas específicas para la clase 2 (exoplanetas confirmados)\n",
    "report_dict = classification_report(y_test, y_pred_optimized, output_dict=True)\n",
    "precision_confirmed = report_dict['2']['precision']\n",
    "recall_confirmed = report_dict['2']['recall']\n",
    "f1_score_confirmed = report_dict['2']['f1-score']\n",
    "\n",
    "# Comentario sobre la certeza\n",
    "print(\"\"\"\n",
    "Comentario sobre la certeza de los candidatos confirmados como planetas:\n",
    "La clase 2 representa los exoplanetas confirmados. Las métricas de desempeño para esta clase son:\n",
    "- Precisión: {:.2f}\n",
    "- Recall: {:.2f}\n",
    "- F1-Score: {:.2f}\n",
    "\n",
    "La precisión indica que el {:.2f}% de las predicciones de exoplanetas confirmados son correctas.\n",
    "El recall indica que el {:.2f}% de todos los exoplanetas confirmados reales fueron identificados\n",
    "correctamente por el modelo.\n",
    "\n",
    "Aunque el modelo tiene un desempeño razonable para los exoplanetas confirmados, se recomienda\n",
    "aplicar técnicas de balanceo de clases\n",
    "y ajustar los hiperparámetros del modelo para mejorar estas métricas.\n",
    "\"\"\".format(\n",
    "    precision_confirmed * 100,\n",
    "    recall_confirmed * 100,\n",
    "    f1_score_confirmed * 100,\n",
    "    precision_confirmed * 100,\n",
    "    recall_confirmed * 100\n",
    "))\n"
   ]
  },
  {
   "cell_type": "code",
   "execution_count": 36,
   "id": "874838ba",
   "metadata": {},
   "outputs": [
    {
     "name": "stdout",
     "output_type": "stream",
     "text": [
      "Matriz de confusión (modelo optimizado):\n",
      "[[  0 193 311]\n",
      " [  0 305 269]\n",
      " [  0 220 800]]\n"
     ]
    }
   ],
   "source": [
    "# Paso 11: Construir la matriz de confusión para visualizar el comportamiento del modelo\n",
    "\n",
    "# Ya hemos construido la matriz de confusión\n",
    "print(\"Matriz de confusión (modelo optimizado):\")\n",
    "print(conf_matrix_optimized)\n"
   ]
  },
  {
   "cell_type": "code",
   "execution_count": 37,
   "id": "1aac7d46",
   "metadata": {},
   "outputs": [
    {
     "data": {
      "image/png": "[encoded data removed]",
      "text/plain": [
       "<Figure size 800x600 with 2 Axes>"
      ]
     },
     "metadata": {},
     "output_type": "display_data"
    }
   ],
   "source": [
    "import matplotlib.pyplot as plt\n",
    "import seaborn as sns\n",
    "from sklearn.metrics import confusion_matrix\n",
    "\n",
    "# Crear la matriz de confusión\n",
    "conf_matrix_optimized = confusion_matrix(y_test, y_pred_optimized)\n",
    "\n",
    "# Graficar la matriz de confusión\n",
    "plt.figure(figsize=(8, 6))\n",
    "sns.heatmap(conf_matrix_optimized, annot=True, fmt='d', cmap='Blues', xticklabels=['Clase 0', 'Clase 1', 'Clase 2'], yticklabels=['Clase 0', 'Clase 1', 'Clase 2'])\n",
    "plt.xlabel('Predicción')\n",
    "plt.ylabel('Verdadero')\n",
    "plt.title('Matriz de Confusión (Modelo Optimizado)')\n",
    "plt.show()\n"
   ]
  },
  {
   "cell_type": "markdown",
   "id": "ca9db624",
   "metadata": {},
   "source": [
    "Desglose Fila por Fila:\n",
    "\n",
    "Primera fila (Clase 0):\n",
    "- 0 instancias de la clase 0 fueron predichas correctamente como clase 0 (verdaderos positivos).\n",
    "- 193 instancias de la clase 0 fueron predichas incorrectamente como clase 1 (falsos negativos).\n",
    "- 311 instancias de la clase 0 fueron predichas incorrectamente como clase 2 (falsos negativos).\n",
    "\n",
    "Segunda fila (Clase 1):\n",
    "- 0 instancias de la clase 1 fueron predichas incorrectamente como clase 0 (falsos negativos).\n",
    "- 305 instancias de la clase 1 fueron predichas correctamente como clase 1 (verdaderos positivos).\n",
    "- 269 instancias de la clase 1 fueron predichas incorrectamente como clase 2 (falsos negativos).\n",
    "\n",
    "Tercera fila (Clase 2):\n",
    "- 0 instancias de la clase 2 fueron predichas incorrectamente como clase 0 (falsos negativos).\n",
    "- 220 instancias de la clase 2 fueron predichas incorrectamente como clase 1 (falsos negativos).\n",
    "- 800 instancias de la clase 2 fueron predichas correctamente como clase 2 (verdaderos positivos).\n",
    "\n",
    "Terminología:\n",
    "- Verdaderos Positivos (TP): Instancias correctamente predichas para una clase específica.\n",
    "- Falsos Negativos (FN): Instancias que pertenecen a una clase específica pero fueron predichas como otra clase.\n",
    "- Falsos Positivos (FP): Instancias que fueron incorrectamente predichas como pertenecientes a una clase específica.\n",
    "- Verdaderos Negativos (TN): Instancias correctamente predichas como no pertenecientes a una clase específica (no se muestra directamente en la matriz de confusión).\n"
   ]
  }
 ],
 "metadata": {
  "kernelspec": {
   "display_name": "Python 3 (ipykernel)",
   "language": "python",
   "name": "python3"
  },
  "language_info": {
   "codemirror_mode": {
    "name": "ipython",
    "version": 3
   },
   "file_extension": ".py",
   "mimetype": "text/x-python",
   "name": "python",
   "nbconvert_exporter": "python",
   "pygments_lexer": "ipython3",
   "version": "3.11.4"
  }
 },
 "nbformat": 4,
 "nbformat_minor": 5
}
